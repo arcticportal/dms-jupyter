{
 "cells": [
  {
   "cell_type": "markdown",
   "id": "767c52db",
   "metadata": {},
   "source": [
    "![Natural Earth logo](https://www.naturalearthdata.com/wp-content/themes/NEV/images/nev_logo.png \"Natural Earth logo\")\n",
    "<div align=\"center\">\n",
    "\n",
    "## Scraping bodies of water data\n",
    "</div>\n",
    "\n",
    "Document explaining how bodies of water data is processed and saved in PostgreSQL database.\n",
    "\n",
    "Link to data from Natural Earth: [bodies of water data](https://www.naturalearthdata.com/http//www.naturalearthdata.com/download/10m/physical/ne_10m_geography_marine_polys.zip)\n",
    "\n",
    "<hr>"
   ]
  },
  {
   "cell_type": "markdown",
   "id": "eea0aa1c",
   "metadata": {},
   "source": [
    "# 1. Download and load data"
   ]
  },
  {
   "cell_type": "markdown",
   "id": "1f5b8409",
   "metadata": {},
   "source": [
    "## Data is in shapefile format compressed into zip file. There is need to import geopandas to read spatial data and requests to get zip file from web."
   ]
  },
  {
   "cell_type": "code",
   "execution_count": null,
   "id": "6f198a05",
   "metadata": {},
   "outputs": [],
   "source": [
    "import geopandas as gpd\n",
    "import requests\n",
    "import os"
   ]
  },
  {
   "cell_type": "code",
   "execution_count": null,
   "id": "b87cf979",
   "metadata": {},
   "outputs": [],
   "source": [
    "waters_link = \"https://www.naturalearthdata.com/http//www.naturalearthdata.com/download/10m/physical/ne_10m_geography_marine_polys.zip\""
   ]
  },
  {
   "cell_type": "markdown",
   "id": "c4caaa60",
   "metadata": {},
   "source": [
    "## Get zip file and check status code. 200 is OK."
   ]
  },
  {
   "cell_type": "code",
   "execution_count": null,
   "id": "c00489d3",
   "metadata": {},
   "outputs": [],
   "source": [
    "r = requests.get(waters_link ,stream=True, headers={\"User-Agent\": \"XY\"})\n",
    "r.status_code"
   ]
  },
  {
   "cell_type": "markdown",
   "id": "b12f133d",
   "metadata": {},
   "source": [
    "## Save zip file inside temp folder."
   ]
  },
  {
   "cell_type": "code",
   "execution_count": null,
   "id": "465a095a",
   "metadata": {},
   "outputs": [],
   "source": [
    "if not os.path.exists(\"../temp/waters/\"):\n",
    "    os.makedirs(\"../temp/waters/\")"
   ]
  },
  {
   "cell_type": "code",
   "execution_count": null,
   "id": "df29c4fa",
   "metadata": {},
   "outputs": [],
   "source": [
    "with open('../temp/waters/ne_10m_geography_marine_polys.zip', 'wb') as fd:\n",
    "    for chunk in r.iter_content(chunk_size=128):\n",
    "        fd.write(chunk)"
   ]
  },
  {
   "cell_type": "code",
   "execution_count": null,
   "id": "3ed2b2a0",
   "metadata": {},
   "outputs": [],
   "source": [
    "zip_file = \"zip://../temp/waters/ne_10m_geography_marine_polys.zip!ne_10m_geography_marine_polys.shp\""
   ]
  },
  {
   "cell_type": "markdown",
   "id": "f1a88bf9",
   "metadata": {},
   "source": [
    "## Load shapefile into geopandas dataframe."
   ]
  },
  {
   "cell_type": "code",
   "execution_count": null,
   "id": "7632a0af",
   "metadata": {},
   "outputs": [],
   "source": [
    "waters_shp = gpd.read_file(\n",
    "    zip_file, layer='ne_10m_geography_marine_polys'\n",
    ")"
   ]
  },
  {
   "cell_type": "markdown",
   "id": "eb8b2c5b",
   "metadata": {},
   "source": [
    "## Check number of row, columns and crs shapefile data."
   ]
  },
  {
   "cell_type": "code",
   "execution_count": null,
   "id": "64ba53fb",
   "metadata": {},
   "outputs": [],
   "source": [
    "waters_shp.shape"
   ]
  },
  {
   "cell_type": "code",
   "execution_count": null,
   "id": "df4762aa",
   "metadata": {},
   "outputs": [],
   "source": [
    "waters_shp.crs"
   ]
  },
  {
   "cell_type": "markdown",
   "id": "0bf38fd0",
   "metadata": {},
   "source": [
    "## Modify dataframe to display only columns that are valuable for our dataset."
   ]
  },
  {
   "cell_type": "code",
   "execution_count": null,
   "id": "7822e99b",
   "metadata": {
    "scrolled": true
   },
   "outputs": [],
   "source": [
    "waters_shp.columns.values.tolist()"
   ]
  },
  {
   "cell_type": "code",
   "execution_count": null,
   "id": "638bc8ff",
   "metadata": {},
   "outputs": [],
   "source": [
    "filter_waters = waters_shp[\n",
    "    [\n",
    "        \"featurecla\",\n",
    "        \"name\",\n",
    "        \"note\",\n",
    "        \"wikidataid\",\n",
    "        \"ne_id\",\n",
    "        \"geometry\",\n",
    "    ]\n",
    "]"
   ]
  },
  {
   "cell_type": "code",
   "execution_count": null,
   "id": "ac18e0e6",
   "metadata": {
    "scrolled": true
   },
   "outputs": [],
   "source": [
    "filter_waters"
   ]
  },
  {
   "cell_type": "markdown",
   "id": "dd3462d4",
   "metadata": {},
   "source": [
    "# 2. Split and view avaliable data"
   ]
  },
  {
   "cell_type": "markdown",
   "id": "0ffaa2c7",
   "metadata": {},
   "source": [
    "## Check body of water types"
   ]
  },
  {
   "cell_type": "code",
   "execution_count": null,
   "id": "d4abe48a",
   "metadata": {},
   "outputs": [],
   "source": [
    "water_types = set(filter_waters[\"featurecla\"])"
   ]
  },
  {
   "cell_type": "code",
   "execution_count": null,
   "id": "c55126ba",
   "metadata": {},
   "outputs": [],
   "source": [
    "water_types"
   ]
  },
  {
   "cell_type": "markdown",
   "id": "addb2460",
   "metadata": {},
   "source": [
    "## Filter and view all bays"
   ]
  },
  {
   "cell_type": "code",
   "execution_count": null,
   "id": "05e8f68b",
   "metadata": {},
   "outputs": [],
   "source": [
    "filter_bay = filter_waters[\"featurecla\"].eq(\"bay\")"
   ]
  },
  {
   "cell_type": "code",
   "execution_count": null,
   "id": "3879ccd0",
   "metadata": {
    "scrolled": true
   },
   "outputs": [],
   "source": [
    "filter_waters[filter_bay].explore(popup=True)"
   ]
  },
  {
   "cell_type": "markdown",
   "id": "26605bb0",
   "metadata": {},
   "source": [
    "## Filter and view all channels"
   ]
  },
  {
   "cell_type": "code",
   "execution_count": null,
   "id": "e581a0bf",
   "metadata": {},
   "outputs": [],
   "source": [
    "filter_channel = filter_waters[\"featurecla\"].eq(\"channel\")"
   ]
  },
  {
   "cell_type": "code",
   "execution_count": null,
   "id": "844c01e9",
   "metadata": {
    "scrolled": true
   },
   "outputs": [],
   "source": [
    "filter_waters[filter_channel].explore(popup=True)"
   ]
  },
  {
   "cell_type": "markdown",
   "id": "a2f9e4d5",
   "metadata": {},
   "source": [
    "## Filter and view all fjords"
   ]
  },
  {
   "cell_type": "code",
   "execution_count": null,
   "id": "1eb37f81",
   "metadata": {},
   "outputs": [],
   "source": [
    "filter_fjord = filter_waters[\"featurecla\"].eq(\"fjord\")"
   ]
  },
  {
   "cell_type": "code",
   "execution_count": null,
   "id": "f3b79db0",
   "metadata": {
    "scrolled": true
   },
   "outputs": [],
   "source": [
    "filter_waters[filter_fjord].explore(popup=True)"
   ]
  },
  {
   "cell_type": "markdown",
   "id": "f03977af",
   "metadata": {},
   "source": [
    "## Filter and view all generic"
   ]
  },
  {
   "cell_type": "code",
   "execution_count": null,
   "id": "42737efa",
   "metadata": {},
   "outputs": [],
   "source": [
    "filter_generic = filter_waters[\"featurecla\"].eq(\"generic\")"
   ]
  },
  {
   "cell_type": "code",
   "execution_count": null,
   "id": "8f31bec3",
   "metadata": {
    "scrolled": true
   },
   "outputs": [],
   "source": [
    "filter_waters[filter_generic].explore(popup=True)"
   ]
  },
  {
   "cell_type": "markdown",
   "id": "392b2b80",
   "metadata": {},
   "source": [
    "## Filter and view all gulfs"
   ]
  },
  {
   "cell_type": "code",
   "execution_count": null,
   "id": "2fa75a76",
   "metadata": {},
   "outputs": [],
   "source": [
    "filter_gulf = filter_waters[\"featurecla\"].eq(\"gulf\")"
   ]
  },
  {
   "cell_type": "code",
   "execution_count": null,
   "id": "9121f6e4",
   "metadata": {
    "scrolled": true
   },
   "outputs": [],
   "source": [
    "filter_waters[filter_gulf].explore(popup=True)"
   ]
  },
  {
   "cell_type": "markdown",
   "id": "dffa3d57",
   "metadata": {},
   "source": [
    "## Filter and view all inlets"
   ]
  },
  {
   "cell_type": "code",
   "execution_count": null,
   "id": "1e1a9868",
   "metadata": {},
   "outputs": [],
   "source": [
    "filter_inlet = filter_waters[\"featurecla\"].eq(\"inlet\")"
   ]
  },
  {
   "cell_type": "code",
   "execution_count": null,
   "id": "2fd8f17c",
   "metadata": {
    "scrolled": true
   },
   "outputs": [],
   "source": [
    "filter_waters[filter_inlet].explore(popup=True)"
   ]
  },
  {
   "cell_type": "markdown",
   "id": "c4b01e37",
   "metadata": {},
   "source": [
    "## Filter and view all lagoons"
   ]
  },
  {
   "cell_type": "code",
   "execution_count": null,
   "id": "8f605663",
   "metadata": {},
   "outputs": [],
   "source": [
    "filter_lagoon = filter_waters[\"featurecla\"].eq(\"lagoon\")"
   ]
  },
  {
   "cell_type": "code",
   "execution_count": null,
   "id": "f2af2d53",
   "metadata": {
    "scrolled": true
   },
   "outputs": [],
   "source": [
    "filter_waters[filter_lagoon].explore(popup=True)"
   ]
  },
  {
   "cell_type": "markdown",
   "id": "f2bad4e0",
   "metadata": {},
   "source": [
    "## Filter and view all oceans"
   ]
  },
  {
   "cell_type": "code",
   "execution_count": null,
   "id": "37c7bdf4",
   "metadata": {},
   "outputs": [],
   "source": [
    "filter_ocean = filter_waters[\"featurecla\"].eq(\"ocean\")"
   ]
  },
  {
   "cell_type": "code",
   "execution_count": null,
   "id": "a6f9ca88",
   "metadata": {
    "scrolled": true
   },
   "outputs": [],
   "source": [
    "filter_waters[filter_ocean].explore(popup=True)"
   ]
  },
  {
   "cell_type": "markdown",
   "id": "d38d0e41",
   "metadata": {},
   "source": [
    "## Filter and view all reefs"
   ]
  },
  {
   "cell_type": "code",
   "execution_count": null,
   "id": "6b9e34ec",
   "metadata": {},
   "outputs": [],
   "source": [
    "filter_reef = filter_waters[\"featurecla\"].eq(\"reef\")"
   ]
  },
  {
   "cell_type": "code",
   "execution_count": null,
   "id": "4fab22a9",
   "metadata": {
    "scrolled": true
   },
   "outputs": [],
   "source": [
    "filter_waters[filter_reef].explore(popup=True)"
   ]
  },
  {
   "cell_type": "markdown",
   "id": "7237e8f1",
   "metadata": {},
   "source": [
    "## Filter and view all rivers"
   ]
  },
  {
   "cell_type": "code",
   "execution_count": null,
   "id": "c26569dc",
   "metadata": {},
   "outputs": [],
   "source": [
    "filter_river = filter_waters[\"featurecla\"].eq(\"river\")"
   ]
  },
  {
   "cell_type": "code",
   "execution_count": null,
   "id": "a59f2da3",
   "metadata": {
    "scrolled": true
   },
   "outputs": [],
   "source": [
    "filter_waters[filter_river].explore(popup=True)"
   ]
  },
  {
   "cell_type": "markdown",
   "id": "382eb64f",
   "metadata": {},
   "source": [
    "## Filter and view all seas"
   ]
  },
  {
   "cell_type": "code",
   "execution_count": null,
   "id": "2c09682e",
   "metadata": {},
   "outputs": [],
   "source": [
    "filter_sea = filter_waters[\"featurecla\"].eq(\"sea\")"
   ]
  },
  {
   "cell_type": "code",
   "execution_count": null,
   "id": "d046ffa8",
   "metadata": {},
   "outputs": [],
   "source": [
    "filter_waters[filter_sea].explore(popup=True)"
   ]
  },
  {
   "cell_type": "markdown",
   "id": "8c51b97a",
   "metadata": {},
   "source": [
    "## Filter and view all sounds"
   ]
  },
  {
   "cell_type": "code",
   "execution_count": null,
   "id": "7d2b4610",
   "metadata": {},
   "outputs": [],
   "source": [
    "filter_sound = filter_waters[\"featurecla\"].eq(\"sound\")"
   ]
  },
  {
   "cell_type": "code",
   "execution_count": null,
   "id": "950e3b18",
   "metadata": {
    "scrolled": true
   },
   "outputs": [],
   "source": [
    "filter_waters[filter_sound].explore(popup=True)"
   ]
  },
  {
   "cell_type": "markdown",
   "id": "0caa5f11",
   "metadata": {},
   "source": [
    "## Filter and view all straits"
   ]
  },
  {
   "cell_type": "code",
   "execution_count": null,
   "id": "d1d4dea1",
   "metadata": {},
   "outputs": [],
   "source": [
    "filter_strait = filter_waters[\"featurecla\"].eq(\"strait\")"
   ]
  },
  {
   "cell_type": "code",
   "execution_count": null,
   "id": "7f351ca6",
   "metadata": {
    "scrolled": true
   },
   "outputs": [],
   "source": [
    "filter_waters[filter_strait].explore(popup=True)"
   ]
  },
  {
   "cell_type": "markdown",
   "id": "fe7768a9",
   "metadata": {},
   "source": [
    "# 3. Save data in database"
   ]
  },
  {
   "cell_type": "code",
   "execution_count": null,
   "id": "ed81ff0d",
   "metadata": {},
   "outputs": [],
   "source": [
    "from apps.utils.converters import pandas_to_gis_multipolygon\n",
    "from apps.landform.models import BodyOfWater, BodyOfWaterType"
   ]
  },
  {
   "cell_type": "markdown",
   "id": "e9e40998",
   "metadata": {},
   "source": [
    "## Create body of water FK"
   ]
  },
  {
   "cell_type": "code",
   "execution_count": null,
   "id": "77668b1e",
   "metadata": {},
   "outputs": [],
   "source": [
    "[BodyOfWaterType.objects.get_or_create(name=item) for item in water_types if item]"
   ]
  },
  {
   "cell_type": "markdown",
   "id": "70e3e4bd",
   "metadata": {},
   "source": [
    "## Iterate through body of water dataframe, convert data, get FK , update or create new entry in database."
   ]
  },
  {
   "cell_type": "code",
   "execution_count": null,
   "id": "1033761c",
   "metadata": {},
   "outputs": [],
   "source": [
    "for row in filter_waters.itertuples(index=False, name=\"Pandas\"):\n",
    "\n",
    "    geometry = pandas_to_gis_multipolygon(row.geometry)\n",
    "    body_of_water_type = BodyOfWaterType.objects.filter(name=row.featurecla)\n",
    "    body_of_water_type = body_of_water_type[0] if body_of_water_type else None\n",
    "\n",
    "    updated_values = {\n",
    "        \"geometry\": geometry,\n",
    "        \"wikidata_id\": row.wikidataid,\n",
    "        \"body_of_water_type\": body_of_water_type,\n",
    "        \"name\": row.name,\n",
    "    }\n",
    "\n",
    "    BodyOfWater.objects.update_or_create(\n",
    "        natural_earth_id=row.ne_id,\n",
    "        defaults=updated_values,\n",
    "    )"
   ]
  },
  {
   "cell_type": "code",
   "execution_count": null,
   "id": "b4df5daf",
   "metadata": {},
   "outputs": [],
   "source": []
  }
 ],
 "metadata": {
  "kernelspec": {
   "display_name": "Django Shell-Plus",
   "language": "python",
   "name": "django_extensions"
  },
  "language_info": {
   "codemirror_mode": {
    "name": "ipython",
    "version": 3
   },
   "file_extension": ".py",
   "mimetype": "text/x-python",
   "name": "python",
   "nbconvert_exporter": "python",
   "pygments_lexer": "ipython3",
   "version": "3.9.7"
  }
 },
 "nbformat": 4,
 "nbformat_minor": 5
}
