{
 "cells": [
  {
   "cell_type": "code",
   "execution_count": null,
   "id": "ef1c4413",
   "metadata": {},
   "outputs": [],
   "source": [
    "import geopandas as gpd"
   ]
  },
  {
   "cell_type": "code",
   "execution_count": null,
   "id": "c1f94195",
   "metadata": {},
   "outputs": [],
   "source": [
    "water_shp = gpd.read_file(\"../temp/body_of_water/ne_10m_geography_marine_polys.shp\", layer='ne_10m_geography_marine_polys')"
   ]
  },
  {
   "cell_type": "code",
   "execution_count": null,
   "id": "56e730ab",
   "metadata": {},
   "outputs": [],
   "source": []
  },
  {
   "cell_type": "code",
   "execution_count": null,
   "id": "db02f3fd",
   "metadata": {},
   "outputs": [],
   "source": [
    "filter_bay = (water_shp[\"featurecla\"] == \"bay\")"
   ]
  },
  {
   "cell_type": "code",
   "execution_count": null,
   "id": "5d3d8965",
   "metadata": {},
   "outputs": [],
   "source": [
    "filter_channel = (water_shp[\"featurecla\"] == \"channel\")"
   ]
  },
  {
   "cell_type": "code",
   "execution_count": null,
   "id": "15424d45",
   "metadata": {},
   "outputs": [],
   "source": [
    "filter_fjord = (water_shp[\"featurecla\"] == \"fjord\")"
   ]
  },
  {
   "cell_type": "code",
   "execution_count": null,
   "id": "928e17b0",
   "metadata": {},
   "outputs": [],
   "source": [
    "filter_gulf = (water_shp[\"featurecla\"] == \"gulf\")"
   ]
  },
  {
   "cell_type": "code",
   "execution_count": null,
   "id": "cb3fff2e",
   "metadata": {},
   "outputs": [],
   "source": [
    "filter_lagoon = (water_shp[\"featurecla\"] == \"lagoon\")"
   ]
  },
  {
   "cell_type": "code",
   "execution_count": null,
   "id": "6f988ef6",
   "metadata": {},
   "outputs": [],
   "source": [
    "filter_ocean = (water_shp[\"featurecla\"] == \"ocean\")"
   ]
  },
  {
   "cell_type": "code",
   "execution_count": null,
   "id": "faff98c0",
   "metadata": {},
   "outputs": [],
   "source": [
    "filter_reef = (water_shp[\"featurecla\"] == \"reef\")"
   ]
  },
  {
   "cell_type": "code",
   "execution_count": null,
   "id": "63c719cd",
   "metadata": {},
   "outputs": [],
   "source": [
    "filter_sea = (water_shp[\"featurecla\"] == \"sea\")"
   ]
  },
  {
   "cell_type": "code",
   "execution_count": null,
   "id": "551f6412",
   "metadata": {},
   "outputs": [],
   "source": [
    "filter_sound = (water_shp[\"featurecla\"] == \"sound\")"
   ]
  },
  {
   "cell_type": "code",
   "execution_count": null,
   "id": "dd363543",
   "metadata": {},
   "outputs": [],
   "source": [
    "filter_strait = (water_shp[\"featurecla\"] == \"strait\")"
   ]
  },
  {
   "cell_type": "code",
   "execution_count": null,
   "id": "f93ea036",
   "metadata": {},
   "outputs": [],
   "source": []
  },
  {
   "cell_type": "code",
   "execution_count": null,
   "id": "80798107",
   "metadata": {},
   "outputs": [],
   "source": [
    "bay_body_of_water = water_shp.loc[filter_bay, [\"name\", \"wikidataid\", \"featurecla\", \"geometry\"]]"
   ]
  },
  {
   "cell_type": "code",
   "execution_count": null,
   "id": "6169a8f4",
   "metadata": {},
   "outputs": [],
   "source": [
    "bay_body_of_water"
   ]
  },
  {
   "cell_type": "code",
   "execution_count": null,
   "id": "e5fc7e36",
   "metadata": {},
   "outputs": [],
   "source": []
  },
  {
   "cell_type": "code",
   "execution_count": null,
   "id": "15bdec97",
   "metadata": {},
   "outputs": [],
   "source": []
  }
 ],
 "metadata": {
  "kernelspec": {
   "display_name": "Django Shell-Plus",
   "language": "python",
   "name": "django_extensions"
  },
  "language_info": {
   "codemirror_mode": {
    "name": "ipython",
    "version": 3
   },
   "file_extension": ".py",
   "mimetype": "text/x-python",
   "name": "python",
   "nbconvert_exporter": "python",
   "pygments_lexer": "ipython3",
   "version": "3.9.7"
  }
 },
 "nbformat": 4,
 "nbformat_minor": 5
}
