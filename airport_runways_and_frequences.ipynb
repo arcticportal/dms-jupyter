{
 "cells": [
  {
   "cell_type": "code",
   "execution_count": null,
   "id": "21c102d5",
   "metadata": {},
   "outputs": [],
   "source": []
  },
  {
   "cell_type": "code",
   "execution_count": null,
   "id": "6f26c6a3",
   "metadata": {},
   "outputs": [],
   "source": []
  },
  {
   "cell_type": "code",
   "execution_count": null,
   "id": "d3f54ed4",
   "metadata": {},
   "outputs": [],
   "source": [
    "import pandas as pd"
   ]
  },
  {
   "cell_type": "code",
   "execution_count": null,
   "id": "c8c2d947",
   "metadata": {},
   "outputs": [],
   "source": [
    "frequences_link = \"https://davidmegginson.github.io/ourairports-data/airport-frequencies.csv\""
   ]
  },
  {
   "cell_type": "code",
   "execution_count": null,
   "id": "ae4e9db3",
   "metadata": {},
   "outputs": [],
   "source": [
    "runways_link = \"https://davidmegginson.github.io/ourairports-data/runways.csv\""
   ]
  },
  {
   "cell_type": "code",
   "execution_count": null,
   "id": "b73b65a9",
   "metadata": {},
   "outputs": [],
   "source": [
    "runways_csv = pd.read_csv(runways_link)"
   ]
  },
  {
   "cell_type": "code",
   "execution_count": null,
   "id": "345aced6",
   "metadata": {},
   "outputs": [],
   "source": [
    "runways_csv.shape"
   ]
  },
  {
   "cell_type": "code",
   "execution_count": null,
   "id": "bff107c1",
   "metadata": {},
   "outputs": [],
   "source": [
    "runways_csv"
   ]
  },
  {
   "cell_type": "code",
   "execution_count": null,
   "id": "6e37b76d",
   "metadata": {},
   "outputs": [],
   "source": [
    "frequences_csv = pd.read_csv(frequences_link)"
   ]
  },
  {
   "cell_type": "code",
   "execution_count": null,
   "id": "fe58088e",
   "metadata": {},
   "outputs": [],
   "source": [
    "frequences_csv"
   ]
  },
  {
   "cell_type": "code",
   "execution_count": null,
   "id": "90339c8b",
   "metadata": {},
   "outputs": [],
   "source": []
  }
 ],
 "metadata": {
  "kernelspec": {
   "display_name": "Django Shell-Plus",
   "language": "python",
   "name": "django_extensions"
  },
  "language_info": {
   "codemirror_mode": {
    "name": "ipython",
    "version": 3
   },
   "file_extension": ".py",
   "mimetype": "text/x-python",
   "name": "python",
   "nbconvert_exporter": "python",
   "pygments_lexer": "ipython3",
   "version": "3.9.7"
  }
 },
 "nbformat": 4,
 "nbformat_minor": 5
}
