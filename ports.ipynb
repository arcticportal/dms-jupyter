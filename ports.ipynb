{
 "cells": [
  {
   "cell_type": "markdown",
   "id": "79515b6f",
   "metadata": {},
   "source": [
    "![Natural Earth logo](https://www.naturalearthdata.com/wp-content/themes/NEV/images/nev_logo.png \"Natural Earth logo\")\n",
    "<div align=\"center\">\n",
    "\n",
    "## Scraping sea port data.\n",
    "</div>\n",
    "\n",
    "Document explaining how sea ports data is processed and saved in PostgreSQL database.\n",
    "\n",
    "Link to data from Natural Earth: [counties data](https://www.naturalearthdata.com/http//www.naturalearthdata.com/download/10m/cultural/ne_10m_ports.zip)\n",
    "\n",
    "<hr>"
   ]
  },
  {
   "cell_type": "markdown",
   "id": "7c5f051d",
   "metadata": {},
   "source": [
    "# 1. Download and load data\n",
    "## Data is in shapefile format compressed into zip file. There is need to import geopandas to read spatial data and requests to get zip file from web."
   ]
  },
  {
   "cell_type": "code",
   "execution_count": null,
   "id": "f16823ba",
   "metadata": {},
   "outputs": [],
   "source": [
    "import geopandas as gpd\n",
    "import requests\n",
    "import os"
   ]
  },
  {
   "cell_type": "code",
   "execution_count": null,
   "id": "6b4d1b34",
   "metadata": {},
   "outputs": [],
   "source": [
    "ports_link = \"https://www.naturalearthdata.com/http//www.naturalearthdata.com/download/10m/cultural/ne_10m_ports.zip\""
   ]
  },
  {
   "cell_type": "markdown",
   "id": "9c01f8ef",
   "metadata": {},
   "source": [
    "## Get zip file and check status code. 200 is OK."
   ]
  },
  {
   "cell_type": "code",
   "execution_count": null,
   "id": "6f6619f0",
   "metadata": {},
   "outputs": [],
   "source": [
    "r = requests.get(ports_link ,stream=True, headers={\"User-Agent\": \"XY\"})\n",
    "r.status_code"
   ]
  },
  {
   "cell_type": "markdown",
   "id": "69872be1",
   "metadata": {},
   "source": [
    "## Save zip file inside temp folder(create if not exist)."
   ]
  },
  {
   "cell_type": "code",
   "execution_count": null,
   "id": "a806fd08",
   "metadata": {},
   "outputs": [],
   "source": [
    "if not os.path.exists('../temp/seaport/'):\n",
    "    os.makedirs('../temp/seaport/')"
   ]
  },
  {
   "cell_type": "code",
   "execution_count": null,
   "id": "4e1f097b",
   "metadata": {},
   "outputs": [],
   "source": [
    "with open('../temp/seaport/ne_10m_ports.zip', 'wb') as fd:\n",
    "    for chunk in r.iter_content(chunk_size=128):\n",
    "        fd.write(chunk)"
   ]
  },
  {
   "cell_type": "code",
   "execution_count": null,
   "id": "7a7e7aa9",
   "metadata": {},
   "outputs": [],
   "source": [
    "zip_file = \"zip://../temp/seaport/ne_10m_ports.zip!ne_10m_ports.shp\""
   ]
  },
  {
   "cell_type": "markdown",
   "id": "9e5c2391",
   "metadata": {},
   "source": [
    "## Load shapefile into geopandas dataframe."
   ]
  },
  {
   "cell_type": "code",
   "execution_count": null,
   "id": "b4316edb",
   "metadata": {},
   "outputs": [],
   "source": [
    "port_shp = gpd.read_file(\n",
    "    zip_file, layer='ne_10m_ports'\n",
    ")"
   ]
  },
  {
   "cell_type": "markdown",
   "id": "ccd11d77",
   "metadata": {},
   "source": [
    "## Check number of row, columns and crs shapefile data."
   ]
  },
  {
   "cell_type": "code",
   "execution_count": null,
   "id": "8777cfe1",
   "metadata": {},
   "outputs": [],
   "source": [
    "port_shp.shape"
   ]
  },
  {
   "cell_type": "code",
   "execution_count": null,
   "id": "03c90a3f",
   "metadata": {},
   "outputs": [],
   "source": [
    "port_shp.crs"
   ]
  },
  {
   "cell_type": "markdown",
   "id": "dd8c5976",
   "metadata": {},
   "source": [
    "## Modify dataframe to display only columns that are valuable for our dataset."
   ]
  },
  {
   "cell_type": "code",
   "execution_count": null,
   "id": "245da999",
   "metadata": {},
   "outputs": [],
   "source": [
    "port_shp.columns.values.tolist()"
   ]
  },
  {
   "cell_type": "code",
   "execution_count": null,
   "id": "cefbaa86",
   "metadata": {},
   "outputs": [],
   "source": [
    "filter_port = port_shp[[\"name\", \"website\", \"geometry\"]]"
   ]
  },
  {
   "cell_type": "code",
   "execution_count": null,
   "id": "00665045",
   "metadata": {},
   "outputs": [],
   "source": [
    "filter_port.head()"
   ]
  },
  {
   "cell_type": "markdown",
   "id": "e90719e9",
   "metadata": {},
   "source": [
    "# 2. Save in database"
   ]
  },
  {
   "cell_type": "markdown",
   "id": "22f8ab1c",
   "metadata": {},
   "source": [
    "## Preview avaliable data from dataframe on map."
   ]
  },
  {
   "cell_type": "code",
   "execution_count": null,
   "id": "2c620a90",
   "metadata": {
    "scrolled": true
   },
   "outputs": [],
   "source": [
    "filter_port.explore(popup=True)"
   ]
  },
  {
   "cell_type": "code",
   "execution_count": null,
   "id": "9e24b3bf",
   "metadata": {},
   "outputs": [],
   "source": [
    "from django.contrib.gis.geos import GEOSGeometry, Point, MultiPoint\n",
    "from apps.civic_structure.models import BoatTerminal"
   ]
  },
  {
   "cell_type": "markdown",
   "id": "11dd769e",
   "metadata": {},
   "source": [
    "## Convert geometry field from geopandas dataframe to GIS Multipoint."
   ]
  },
  {
   "cell_type": "code",
   "execution_count": null,
   "id": "ee229760",
   "metadata": {},
   "outputs": [],
   "source": [
    "def convert_geometry(geometry):\n",
    "    geometry = GEOSGeometry(str(geometry))\n",
    "    if geometry.geom_type == 'Point':\n",
    "        geometry = MultiPoint(geometry)\n",
    "    return geometry"
   ]
  },
  {
   "cell_type": "markdown",
   "id": "9a7c63d2",
   "metadata": {},
   "source": [
    "## Iterate through dataframe, convert data, get FK and update and create new entry in database."
   ]
  },
  {
   "cell_type": "code",
   "execution_count": null,
   "id": "2f803bf0",
   "metadata": {},
   "outputs": [],
   "source": [
    "for row in filter_port.itertuples(index=False, name=\"Pandas\"):\n",
    "    geometry = convert_geometry(row.geometry)\n",
    "\n",
    "    updated_values = {\n",
    "        \"geometry\": geometry,\n",
    "        \"url\": row.website,\n",
    "    }\n",
    "\n",
    "    BoatTerminal.objects.update_or_create(\n",
    "        name=row.name,\n",
    "        defaults=updated_values,\n",
    "    )"
   ]
  },
  {
   "cell_type": "code",
   "execution_count": null,
   "id": "57997abb",
   "metadata": {},
   "outputs": [],
   "source": []
  }
 ],
 "metadata": {
  "kernelspec": {
   "display_name": "Django Shell-Plus",
   "language": "python",
   "name": "django_extensions"
  },
  "language_info": {
   "codemirror_mode": {
    "name": "ipython",
    "version": 3
   },
   "file_extension": ".py",
   "mimetype": "text/x-python",
   "name": "python",
   "nbconvert_exporter": "python",
   "pygments_lexer": "ipython3",
   "version": "3.9.7"
  }
 },
 "nbformat": 4,
 "nbformat_minor": 5
}
