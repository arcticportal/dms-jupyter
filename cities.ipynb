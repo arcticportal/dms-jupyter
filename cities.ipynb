{
 "cells": [
  {
   "cell_type": "markdown",
   "id": "8b11b39e",
   "metadata": {},
   "source": [
    "![Natural Earth logo](https://www.naturalearthdata.com/wp-content/themes/NEV/images/nev_logo.png \"Natural Earth logo\")\n",
    "<div align=\"center\">\n",
    "\n",
    "## Scraping cities and populated places data\n",
    "</div>\n",
    "\n",
    "Document explaining how populated places data is processed and saved in PostgreSQL database.\n",
    "\n",
    "Link to data from Natural Earth: [populated places data](https://www.naturalearthdata.com/http//www.naturalearthdata.com/download/10m/cultural/ne_10m_populated_places_simple.zip)\n",
    "\n",
    "<hr>"
   ]
  },
  {
   "cell_type": "markdown",
   "id": "2ada831f",
   "metadata": {},
   "source": [
    "# 1. Download and load data"
   ]
  },
  {
   "cell_type": "markdown",
   "id": "bc2e680a",
   "metadata": {},
   "source": [
    "## Data is in shapefile format compressed into zip file. There is need to import geopandas to read spatial data and requests to get zip file from web."
   ]
  },
  {
   "cell_type": "code",
   "execution_count": null,
   "id": "eaf4e788",
   "metadata": {},
   "outputs": [],
   "source": [
    "import geopandas as gpd\n",
    "import requests\n",
    "import os"
   ]
  },
  {
   "cell_type": "code",
   "execution_count": null,
   "id": "2b5f1f10",
   "metadata": {},
   "outputs": [],
   "source": [
    "cities_link = \"https://www.naturalearthdata.com/http//www.naturalearthdata.com/download/10m/cultural/ne_10m_populated_places.zip\""
   ]
  },
  {
   "cell_type": "markdown",
   "id": "f625c6c2",
   "metadata": {},
   "source": [
    "## Get zip file and check status code. 200 is OK."
   ]
  },
  {
   "cell_type": "code",
   "execution_count": null,
   "id": "6504241b",
   "metadata": {},
   "outputs": [],
   "source": [
    "r = requests.get(cities_link ,stream=True, headers={\"User-Agent\": \"XY\"})\n",
    "r.status_code"
   ]
  },
  {
   "cell_type": "markdown",
   "id": "66715915",
   "metadata": {},
   "source": [
    "## Save zip file inside temp folder."
   ]
  },
  {
   "cell_type": "code",
   "execution_count": null,
   "id": "a907e1c2",
   "metadata": {},
   "outputs": [],
   "source": [
    "if not os.path.exists(\"../temp/places/\"):\n",
    "    os.makedirs(\"../temp/places/\")"
   ]
  },
  {
   "cell_type": "code",
   "execution_count": null,
   "id": "08e3dc78",
   "metadata": {},
   "outputs": [],
   "source": [
    "with open('../temp/places/ne_10m_populated_places.zip', 'wb') as fd:\n",
    "    for chunk in r.iter_content(chunk_size=128):\n",
    "        fd.write(chunk)"
   ]
  },
  {
   "cell_type": "code",
   "execution_count": null,
   "id": "356447ab",
   "metadata": {},
   "outputs": [],
   "source": [
    "zip_file = \"zip://../temp/places/ne_10m_populated_places.zip!ne_10m_populated_places.shp\""
   ]
  },
  {
   "cell_type": "markdown",
   "id": "95199d4e",
   "metadata": {},
   "source": [
    "## Load shapefile into geopandas dataframe."
   ]
  },
  {
   "cell_type": "code",
   "execution_count": null,
   "id": "41123fba",
   "metadata": {},
   "outputs": [],
   "source": [
    "cities_shp = gpd.read_file(\n",
    "    zip_file, layer='ne_10m_populated_places'\n",
    ")"
   ]
  },
  {
   "cell_type": "markdown",
   "id": "14d98877",
   "metadata": {},
   "source": [
    "## Check number of row, columns and crs shapefile data."
   ]
  },
  {
   "cell_type": "code",
   "execution_count": null,
   "id": "e5e536f1",
   "metadata": {},
   "outputs": [],
   "source": [
    "cities_shp.shape"
   ]
  },
  {
   "cell_type": "code",
   "execution_count": null,
   "id": "31b028e5",
   "metadata": {},
   "outputs": [],
   "source": [
    "cities_shp.crs"
   ]
  },
  {
   "cell_type": "markdown",
   "id": "84d8eae9",
   "metadata": {},
   "source": [
    "## Modify dataframe to display only columns that are valuable for our dataset."
   ]
  },
  {
   "cell_type": "code",
   "execution_count": null,
   "id": "9f534573",
   "metadata": {
    "scrolled": true
   },
   "outputs": [],
   "source": [
    "cities_shp.columns.values.tolist()"
   ]
  },
  {
   "cell_type": "code",
   "execution_count": null,
   "id": "031da71e",
   "metadata": {},
   "outputs": [],
   "source": [
    "filter_cities = cities_shp[\n",
    "    [\n",
    "        \"FEATURECLA\",\n",
    "        \"NAME\",\n",
    "        \"WIKIDATAID\",\n",
    "        \"WOF_ID\",\n",
    "        \"GEONAMESID\",\n",
    "        \"ISO_A2\",\n",
    "        \"geometry\",\n",
    "    ]\n",
    "]"
   ]
  },
  {
   "cell_type": "code",
   "execution_count": null,
   "id": "4636f12e",
   "metadata": {},
   "outputs": [],
   "source": [
    "filter_cities"
   ]
  },
  {
   "cell_type": "markdown",
   "id": "1a56658e",
   "metadata": {},
   "source": [
    "## Replace \"-99\" value with None."
   ]
  },
  {
   "cell_type": "code",
   "execution_count": null,
   "id": "20d6d348",
   "metadata": {},
   "outputs": [],
   "source": [
    "filter_cities[filter_cities.eq('-99').any(1)]"
   ]
  },
  {
   "cell_type": "code",
   "execution_count": null,
   "id": "60df595c",
   "metadata": {},
   "outputs": [],
   "source": [
    "finall_cities = filter_cities.replace('-99', None)"
   ]
  },
  {
   "cell_type": "markdown",
   "id": "c5f6cd39",
   "metadata": {},
   "source": [
    "# 2. Split and view avaliable data"
   ]
  },
  {
   "cell_type": "markdown",
   "id": "69e0fb19",
   "metadata": {},
   "source": [
    "## Check avaliable populated places types."
   ]
  },
  {
   "cell_type": "code",
   "execution_count": null,
   "id": "c72aa84c",
   "metadata": {},
   "outputs": [],
   "source": [
    "city_types = set(finall_cities[\"FEATURECLA\"])"
   ]
  },
  {
   "cell_type": "code",
   "execution_count": null,
   "id": "0fde581f",
   "metadata": {
    "scrolled": true
   },
   "outputs": [],
   "source": [
    "city_types"
   ]
  },
  {
   "cell_type": "markdown",
   "id": "a1a3abc7",
   "metadata": {},
   "source": [
    "## Filter and view countries capitals."
   ]
  },
  {
   "cell_type": "code",
   "execution_count": null,
   "id": "4a407df9",
   "metadata": {},
   "outputs": [],
   "source": [
    "filter_capitals = (finall_cities[\"FEATURECLA\"] == \"Admin-0 capital\")"
   ]
  },
  {
   "cell_type": "code",
   "execution_count": null,
   "id": "06cf48e9",
   "metadata": {
    "scrolled": true
   },
   "outputs": [],
   "source": [
    "finall_cities[filter_capitals].explore(popup=True,)"
   ]
  },
  {
   "cell_type": "markdown",
   "id": "9be234d6",
   "metadata": {},
   "source": [
    "## Filter and view dependent countries capitals."
   ]
  },
  {
   "cell_type": "code",
   "execution_count": null,
   "id": "bf2a5040",
   "metadata": {},
   "outputs": [],
   "source": [
    "filter_region_capital = (finall_cities[\"FEATURECLA\"] == \"Admin-0 region capital\")"
   ]
  },
  {
   "cell_type": "code",
   "execution_count": null,
   "id": "dd86c783",
   "metadata": {
    "scrolled": true
   },
   "outputs": [],
   "source": [
    "finall_cities[filter_region_capital].explore(popup=True,)"
   ]
  },
  {
   "cell_type": "markdown",
   "id": "cea16aab",
   "metadata": {},
   "source": [
    "## Filter and view historical capitals."
   ]
  },
  {
   "cell_type": "code",
   "execution_count": null,
   "id": "8be5ccf8",
   "metadata": {},
   "outputs": [],
   "source": [
    "filter_history_capital = (finall_cities[\"FEATURECLA\"] == \"Admin-0 capital alt\")"
   ]
  },
  {
   "cell_type": "code",
   "execution_count": null,
   "id": "55d11834",
   "metadata": {
    "scrolled": true
   },
   "outputs": [],
   "source": [
    "finall_cities[filter_history_capital].explore(popup=True,)"
   ]
  },
  {
   "cell_type": "markdown",
   "id": "cc837a5b",
   "metadata": {},
   "source": [
    "## Filter and view states and provinces capitals."
   ]
  },
  {
   "cell_type": "code",
   "execution_count": null,
   "id": "048d3ca8",
   "metadata": {},
   "outputs": [],
   "source": [
    "filter_adm_capital = finall_cities[\"FEATURECLA\"].isin([\"Admin-1 capital\", \"Admin-1 region capital\"])"
   ]
  },
  {
   "cell_type": "code",
   "execution_count": null,
   "id": "50a2bb42",
   "metadata": {
    "scrolled": true
   },
   "outputs": [],
   "source": [
    "finall_cities[filter_adm_capital].explore(popup=True,)"
   ]
  },
  {
   "cell_type": "markdown",
   "id": "3db2511f",
   "metadata": {},
   "source": [
    "## Filter and view other populated places."
   ]
  },
  {
   "cell_type": "code",
   "execution_count": null,
   "id": "21a2c639",
   "metadata": {},
   "outputs": [],
   "source": [
    "city = finall_cities[\"FEATURECLA\"].isin([\"Populated place\", \"Populated Place\"])"
   ]
  },
  {
   "cell_type": "code",
   "execution_count": null,
   "id": "72735842",
   "metadata": {
    "scrolled": true
   },
   "outputs": [],
   "source": [
    "finall_cities[city].explore(popup=True,)"
   ]
  },
  {
   "cell_type": "markdown",
   "id": "7368e065",
   "metadata": {},
   "source": [
    "## Filter and view scientific stations."
   ]
  },
  {
   "cell_type": "code",
   "execution_count": null,
   "id": "4dfba147",
   "metadata": {},
   "outputs": [],
   "source": [
    "scientific_station = (finall_cities[\"FEATURECLA\"] == \"Scientific station\")"
   ]
  },
  {
   "cell_type": "code",
   "execution_count": null,
   "id": "e5f96471",
   "metadata": {
    "scrolled": true
   },
   "outputs": [],
   "source": [
    "finall_cities[scientific_station].explore(popup=True,)"
   ]
  },
  {
   "cell_type": "markdown",
   "id": "25f99219",
   "metadata": {},
   "source": [
    "## Filter and view historic places."
   ]
  },
  {
   "cell_type": "code",
   "execution_count": null,
   "id": "efe1b3cf",
   "metadata": {},
   "outputs": [],
   "source": [
    "historic_place = (finall_cities[\"FEATURECLA\"] == \"Historic place\")"
   ]
  },
  {
   "cell_type": "code",
   "execution_count": null,
   "id": "2e1d5934",
   "metadata": {
    "scrolled": true
   },
   "outputs": [],
   "source": [
    "finall_cities[historic_place].explore(popup=True,)"
   ]
  },
  {
   "cell_type": "markdown",
   "id": "546938ac",
   "metadata": {},
   "source": [
    "## Filter and view meteo stations."
   ]
  },
  {
   "cell_type": "code",
   "execution_count": null,
   "id": "69017946",
   "metadata": {},
   "outputs": [],
   "source": [
    "meteo_station = (finall_cities[\"FEATURECLA\"] == \"Meteorological Station\")"
   ]
  },
  {
   "cell_type": "code",
   "execution_count": null,
   "id": "03cae723",
   "metadata": {
    "scrolled": true
   },
   "outputs": [],
   "source": [
    "finall_cities[meteo_station].explore(popup=True,)"
   ]
  },
  {
   "cell_type": "markdown",
   "id": "82d76a59",
   "metadata": {},
   "source": [
    "# 3. Split table on scientific stations and cities"
   ]
  },
  {
   "cell_type": "markdown",
   "id": "261a30c8",
   "metadata": {},
   "source": [
    "## Get list of iso2 codes not avaliable in country db table to skip this items cosing errors while saving as FK."
   ]
  },
  {
   "cell_type": "code",
   "execution_count": null,
   "id": "efe20ec0",
   "metadata": {},
   "outputs": [],
   "source": [
    "country_iso2 = set(Country.objects.order_by().values_list(\"iso2\", flat=True))"
   ]
  },
  {
   "cell_type": "code",
   "execution_count": null,
   "id": "b572cf98",
   "metadata": {},
   "outputs": [],
   "source": [
    "city_iso2 = set(finall_cities[\"ISO_A2\"].unique())"
   ]
  },
  {
   "cell_type": "code",
   "execution_count": null,
   "id": "89f0c123",
   "metadata": {},
   "outputs": [],
   "source": [
    "iso2_diff = city_iso2.difference(country_iso2)"
   ]
  },
  {
   "cell_type": "code",
   "execution_count": null,
   "id": "eefa3864",
   "metadata": {
    "scrolled": true
   },
   "outputs": [],
   "source": [
    "iso2_diff"
   ]
  },
  {
   "cell_type": "markdown",
   "id": "211523da",
   "metadata": {},
   "source": [
    "## Filter scientific stations"
   ]
  },
  {
   "cell_type": "code",
   "execution_count": null,
   "id": "ae637a81",
   "metadata": {},
   "outputs": [],
   "source": [
    "science = finall_cities[\"FEATURECLA\"].isin([\"Meteorological Station\", \"Scientific station\"])"
   ]
  },
  {
   "cell_type": "code",
   "execution_count": null,
   "id": "aaead72b",
   "metadata": {},
   "outputs": [],
   "source": [
    "scientific_stations = finall_cities[science]"
   ]
  },
  {
   "cell_type": "code",
   "execution_count": null,
   "id": "9cc42044",
   "metadata": {
    "scrolled": true
   },
   "outputs": [],
   "source": [
    "scientific_stations"
   ]
  },
  {
   "cell_type": "markdown",
   "id": "1797a555",
   "metadata": {},
   "source": [
    "## Filter cities"
   ]
  },
  {
   "cell_type": "code",
   "execution_count": null,
   "id": "ca4cda70",
   "metadata": {},
   "outputs": [],
   "source": [
    "cities = finall_cities[~science]"
   ]
  },
  {
   "cell_type": "code",
   "execution_count": null,
   "id": "1c5e1f51",
   "metadata": {},
   "outputs": [],
   "source": [
    "cities"
   ]
  },
  {
   "cell_type": "markdown",
   "id": "ccf856a9",
   "metadata": {},
   "source": [
    "# 4. Save in database"
   ]
  },
  {
   "cell_type": "code",
   "execution_count": null,
   "id": "f28b8616",
   "metadata": {},
   "outputs": [],
   "source": [
    "from apps.utils.converters import pandas_to_gis_multipoint\n",
    "from apps.administrative_area.models import Country, City, CityType\n",
    "from apps.civic_structure.models import ScientificStation, ScientificStationType"
   ]
  },
  {
   "cell_type": "markdown",
   "id": "bfa27f81",
   "metadata": {},
   "source": [
    "## Make type name mapping dictionary"
   ]
  },
  {
   "cell_type": "code",
   "execution_count": null,
   "id": "6a7d9b2a",
   "metadata": {},
   "outputs": [],
   "source": [
    "map_types = {\n",
    "    'Admin-0 capital': \"Capital\",\n",
    "    'Admin-0 capital alt': \"Old capital\",\n",
    "    'Admin-0 region capital': \"Capital\",\n",
    "    'Admin-1 capital': \"Region capital\",\n",
    "    'Admin-1 region capital': \"Region capital\",\n",
    "    'Historic place': \"Historic place\",\n",
    "    'Meteorological Station': \"Meteorological Station\",\n",
    "    'Populated Place': \"Populated place\",\n",
    "    'Populated place': \"Populated place\",\n",
    "    'Scientific station': \"Scientific station\",\n",
    "}"
   ]
  },
  {
   "cell_type": "markdown",
   "id": "b2000182",
   "metadata": {},
   "source": [
    "## Create Cities FK"
   ]
  },
  {
   "cell_type": "code",
   "execution_count": null,
   "id": "8ad6cd01",
   "metadata": {},
   "outputs": [],
   "source": [
    "cities_types = set(cities[\"FEATURECLA\"])"
   ]
  },
  {
   "cell_type": "code",
   "execution_count": null,
   "id": "d0d052da",
   "metadata": {},
   "outputs": [],
   "source": [
    "cities_types"
   ]
  },
  {
   "cell_type": "code",
   "execution_count": null,
   "id": "3f2f3850",
   "metadata": {},
   "outputs": [],
   "source": [
    "[CityType.objects.get_or_create(name=map_types[item]) for item in cities_types if item]"
   ]
  },
  {
   "cell_type": "markdown",
   "id": "dd38a3c2",
   "metadata": {},
   "source": [
    "## Iterate through cities dataframe, convert data, get FK , update or create new entry in database."
   ]
  },
  {
   "cell_type": "code",
   "execution_count": null,
   "id": "a86dd714",
   "metadata": {},
   "outputs": [],
   "source": [
    "for row in cities.itertuples(index=False, name=\"Pandas\"):\n",
    "    if row.ISO_A2 in iso2_diff:\n",
    "        country = None\n",
    "    else:\n",
    "        country = Country.objects.filter(iso2=row.ISO_A2)[0]\n",
    "\n",
    "    geometry = pandas_to_gis_multipoint(row.geometry)\n",
    "    city_type = CityType.objects.filter(name=map_types[row.FEATURECLA])\n",
    "    city_type = city_type[0] if city_type else None\n",
    "    updated_values = {\n",
    "        \"geonames_id\": row.GEONAMESID,\n",
    "        \"point\": geometry,\n",
    "        \"wikidata_id\": row.WIKIDATAID,\n",
    "        \"city_type\": city_type,\n",
    "        \"country\": country,\n",
    "    }\n",
    "    City.objects.update_or_create(\n",
    "        whosonfirst_id=row.WOF_ID,\n",
    "        name=row.NAME,\n",
    "        defaults=updated_values,\n",
    "    )"
   ]
  },
  {
   "cell_type": "markdown",
   "id": "23edc82c",
   "metadata": {},
   "source": [
    "## Create Scientific Stations FK"
   ]
  },
  {
   "cell_type": "code",
   "execution_count": null,
   "id": "368233ac",
   "metadata": {},
   "outputs": [],
   "source": [
    "science_types = set(scientific_stations[\"FEATURECLA\"])"
   ]
  },
  {
   "cell_type": "code",
   "execution_count": null,
   "id": "1ac29e51",
   "metadata": {},
   "outputs": [],
   "source": [
    "science_types"
   ]
  },
  {
   "cell_type": "code",
   "execution_count": null,
   "id": "71e967fd",
   "metadata": {},
   "outputs": [],
   "source": [
    "[ScientificStationType.objects.get_or_create(name=map_types[item]) for item in science_types if item]"
   ]
  },
  {
   "cell_type": "code",
   "execution_count": null,
   "id": "f6f8e2e5",
   "metadata": {},
   "outputs": [],
   "source": [
    "for row in scientific_stations.itertuples(index=False, name=\"Pandas\"):\n",
    "    if row.ISO_A2 in iso2_diff:\n",
    "        country = None\n",
    "    else:\n",
    "        country = Country.objects.filter(iso2=row.ISO_A2)[0]\n",
    "    geometry = pandas_to_gis_multipoint(row.geometry)\n",
    "    science_type = ScientificStationType.objects.filter(name=map_types[row.FEATURECLA])\n",
    "    science_type = science_type[0] if science_type else None\n",
    "\n",
    "    updated_values = {\n",
    "        \"geonames_id\": row.GEONAMESID,\n",
    "        \"point\": geometry,\n",
    "        \"wikidata_id\": row.WIKIDATAID,\n",
    "        \"science_station_type\": science_type,\n",
    "        \"country\": country,\n",
    "    }\n",
    "\n",
    "    ScientificStation.objects.update_or_create(\n",
    "        whosonfirst_id=row.WOF_ID,\n",
    "        name=row.NAME,\n",
    "        defaults=updated_values,\n",
    "    )"
   ]
  },
  {
   "cell_type": "code",
   "execution_count": null,
   "id": "079a5a06",
   "metadata": {},
   "outputs": [],
   "source": []
  }
 ],
 "metadata": {
  "kernelspec": {
   "display_name": "Django Shell-Plus",
   "language": "python",
   "name": "django_extensions"
  },
  "language_info": {
   "codemirror_mode": {
    "name": "ipython",
    "version": 3
   },
   "file_extension": ".py",
   "mimetype": "text/x-python",
   "name": "python",
   "nbconvert_exporter": "python",
   "pygments_lexer": "ipython3",
   "version": "3.9.7"
  }
 },
 "nbformat": 4,
 "nbformat_minor": 5
}
