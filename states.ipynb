{
 "cells": [
  {
   "cell_type": "markdown",
   "id": "3bdde9cc",
   "metadata": {},
   "source": [
    "![Natural Earth logo](https://www.naturalearthdata.com/wp-content/themes/NEV/images/nev_logo.png \"Natural Earth logo\")\n",
    "<div align=\"center\">\n",
    "    \n",
    "## Scraping states data and boundaries\n",
    "</div>\n",
    "\n",
    "Document explaining how states data is processed and saved in PostgreSQL database.\n",
    "\n",
    "Link to data from Natural Earth: [states data](https://www.naturalearthdata.com/http//www.naturalearthdata.com/download/10m/cultural/ne_10m_admin_1_states_provinces.zip)\n"
   ]
  },
  {
   "cell_type": "markdown",
   "id": "db342bb4",
   "metadata": {},
   "source": [
    "# 1. Download and load data\n",
    "## Data is in shapefile format compressed into zip file. There is need to import geopandas to read spatial data and requests to get zip file from web."
   ]
  },
  {
   "cell_type": "code",
   "execution_count": null,
   "id": "233513f8",
   "metadata": {},
   "outputs": [],
   "source": [
    "import geopandas as gpd\n",
    "import requests\n",
    "import os"
   ]
  },
  {
   "cell_type": "code",
   "execution_count": null,
   "id": "87dc1f64",
   "metadata": {},
   "outputs": [],
   "source": [
    "states_link = 'https://www.naturalearthdata.com/http//www.naturalearthdata.com/download/10m/cultural/ne_10m_admin_1_states_provinces.zip'"
   ]
  },
  {
   "cell_type": "markdown",
   "id": "4dcac03f",
   "metadata": {},
   "source": [
    "## Get zip file and check status code. 200 is OK."
   ]
  },
  {
   "cell_type": "code",
   "execution_count": null,
   "id": "54024a02",
   "metadata": {},
   "outputs": [],
   "source": [
    "r = requests.get(states_link ,stream=True, headers={\"User-Agent\": \"XY\"})\n",
    "r.status_code"
   ]
  },
  {
   "cell_type": "markdown",
   "id": "5ba6e185",
   "metadata": {},
   "source": [
    "## Save zip file inside temp folder."
   ]
  },
  {
   "cell_type": "code",
   "execution_count": null,
   "id": "206f13d9",
   "metadata": {},
   "outputs": [],
   "source": [
    "if not os.path.exists('../temp/state/'):\n",
    "    os.makedirs('../temp/state/')"
   ]
  },
  {
   "cell_type": "code",
   "execution_count": null,
   "id": "610c4c94",
   "metadata": {},
   "outputs": [],
   "source": [
    "with open('../temp/state/ne_10m_admin_1_states_provinces.zip', 'wb') as fd:\n",
    "    for chunk in r.iter_content(chunk_size=128):\n",
    "        fd.write(chunk)"
   ]
  },
  {
   "cell_type": "code",
   "execution_count": null,
   "id": "c6b0b8a7",
   "metadata": {},
   "outputs": [],
   "source": [
    "zip_file = \"zip://../temp/state/ne_10m_admin_1_states_provinces.zip!ne_10m_admin_1_states_provinces.shp\""
   ]
  },
  {
   "cell_type": "markdown",
   "id": "585cdb75",
   "metadata": {},
   "source": [
    "## Load shapefile into geopandas dataframe."
   ]
  },
  {
   "cell_type": "code",
   "execution_count": null,
   "id": "148988a4",
   "metadata": {},
   "outputs": [],
   "source": [
    "states_shp = gpd.read_file(\n",
    "    zip_file, layer='ne_10m_admin_1_states_provinces'\n",
    ")"
   ]
  },
  {
   "cell_type": "markdown",
   "id": "98939684",
   "metadata": {},
   "source": [
    "## Check number of row, columns and crs shapefile data."
   ]
  },
  {
   "cell_type": "code",
   "execution_count": null,
   "id": "4ed56bdf",
   "metadata": {
    "scrolled": true
   },
   "outputs": [],
   "source": [
    "states_shp.shape"
   ]
  },
  {
   "cell_type": "code",
   "execution_count": null,
   "id": "45e901cf",
   "metadata": {},
   "outputs": [],
   "source": [
    "states_shp.crs"
   ]
  },
  {
   "cell_type": "markdown",
   "id": "a69778be",
   "metadata": {},
   "source": [
    "## Modify dataframe to display only columns that are valuable for our dataset."
   ]
  },
  {
   "cell_type": "code",
   "execution_count": null,
   "id": "264074ea",
   "metadata": {
    "scrolled": true
   },
   "outputs": [],
   "source": [
    "states_shp.columns.values.tolist()"
   ]
  },
  {
   "cell_type": "code",
   "execution_count": null,
   "id": "d3efa4af",
   "metadata": {},
   "outputs": [],
   "source": [
    "filter_states = states_shp[\n",
    "    [\n",
    "        \"name\", \"adm1_code\", \n",
    "        \"iso_3166_2\", \"fips\", \n",
    "        \"type_en\", \"wikidataid\", \n",
    "        \"iso_a2\", \"geometry\",\n",
    "    ]\n",
    "]"
   ]
  },
  {
   "cell_type": "markdown",
   "id": "08810cbd",
   "metadata": {},
   "source": [
    "## Change column names to equal database model names."
   ]
  },
  {
   "cell_type": "code",
   "execution_count": null,
   "id": "65b89e4b",
   "metadata": {},
   "outputs": [],
   "source": [
    "filter_states.set_axis(\n",
    "[\n",
    "    'name', 'adm1_code',\n",
    "    'iso_3166_1_2', 'fips',\n",
    "    'state_type', 'wikidata_id',\n",
    "    \"iso_a2\", \"geometry\",\n",
    "], axis=1, inplace=True)"
   ]
  },
  {
   "cell_type": "code",
   "execution_count": null,
   "id": "820ba0ec",
   "metadata": {
    "scrolled": true
   },
   "outputs": [],
   "source": [
    "filter_states[2625:2635]"
   ]
  },
  {
   "cell_type": "markdown",
   "id": "7edcfe44",
   "metadata": {},
   "source": [
    "# 2. Fix errors in database\n",
    "## Some \"iso_a2\" cells having value of \"-1\", change it to None."
   ]
  },
  {
   "cell_type": "code",
   "execution_count": null,
   "id": "d3327e4e",
   "metadata": {
    "scrolled": true
   },
   "outputs": [],
   "source": [
    "filter_states[filter_states.eq('-1').any(1)]"
   ]
  },
  {
   "cell_type": "code",
   "execution_count": null,
   "id": "2067f010",
   "metadata": {},
   "outputs": [],
   "source": [
    "filter_errors = filter_states.replace('-1', None)"
   ]
  },
  {
   "cell_type": "markdown",
   "id": "a7c27fce",
   "metadata": {},
   "source": [
    "# 3. Create foreign key for state type if not in db"
   ]
  },
  {
   "cell_type": "code",
   "execution_count": null,
   "id": "730343f7",
   "metadata": {},
   "outputs": [],
   "source": [
    "from apps.administrative_area.models import StateType"
   ]
  },
  {
   "cell_type": "code",
   "execution_count": null,
   "id": "e93164c8",
   "metadata": {},
   "outputs": [],
   "source": [
    "types = set(filter_errors[\"state_type\"])"
   ]
  },
  {
   "cell_type": "code",
   "execution_count": null,
   "id": "f52dda3a",
   "metadata": {
    "scrolled": true
   },
   "outputs": [],
   "source": [
    "types"
   ]
  },
  {
   "cell_type": "code",
   "execution_count": null,
   "id": "88f3e761",
   "metadata": {
    "scrolled": true
   },
   "outputs": [],
   "source": [
    "[StateType.objects.get_or_create(name=item) for item in types if item]"
   ]
  },
  {
   "cell_type": "code",
   "execution_count": null,
   "id": "6a52b123",
   "metadata": {},
   "outputs": [],
   "source": [
    "StateType.objects.values_list('name', flat=True)"
   ]
  },
  {
   "cell_type": "markdown",
   "id": "34161b72",
   "metadata": {},
   "source": [
    "# 4. Save in database"
   ]
  },
  {
   "cell_type": "markdown",
   "id": "bc1f2624",
   "metadata": {},
   "source": [
    "## Preview data on map"
   ]
  },
  {
   "cell_type": "code",
   "execution_count": null,
   "id": "0a9a98ea",
   "metadata": {
    "scrolled": true
   },
   "outputs": [],
   "source": [
    "filter_errors.explore(column=\"state_type\", popup=True)"
   ]
  },
  {
   "cell_type": "code",
   "execution_count": null,
   "id": "c951e44a",
   "metadata": {},
   "outputs": [],
   "source": [
    "from django.contrib.gis.geos import GEOSGeometry, Polygon, MultiPolygon\n",
    "from apps.administrative_area.models import Country, State"
   ]
  },
  {
   "cell_type": "markdown",
   "id": "b0ed36fe",
   "metadata": {},
   "source": [
    "## Convert geometry field from geopandas dataframe to GIS Multipolygon."
   ]
  },
  {
   "cell_type": "code",
   "execution_count": null,
   "id": "7a747c6a",
   "metadata": {},
   "outputs": [],
   "source": [
    "def convert_geometry(geometry):\n",
    "    geometry = GEOSGeometry(str(geometry))\n",
    "    if geometry.geom_type == 'Polygon':\n",
    "        geometry = MultiPolygon(geometry)\n",
    "    return geometry"
   ]
  },
  {
   "cell_type": "markdown",
   "id": "c1bd57e1",
   "metadata": {},
   "source": [
    "## Get list of iso2 codes not avaliable in country db table. Then skip this items to not get error while saving state FK."
   ]
  },
  {
   "cell_type": "code",
   "execution_count": null,
   "id": "7962d2a3",
   "metadata": {
    "scrolled": true
   },
   "outputs": [],
   "source": [
    "country_iso2 = set(Country.objects.order_by().values_list('iso2', flat=True))"
   ]
  },
  {
   "cell_type": "code",
   "execution_count": null,
   "id": "555fd5dd",
   "metadata": {},
   "outputs": [],
   "source": [
    "state_iso2 = set(filter_errors['iso_a2'].unique())"
   ]
  },
  {
   "cell_type": "code",
   "execution_count": null,
   "id": "52e6b86f",
   "metadata": {},
   "outputs": [],
   "source": [
    "iso2_diff = state_iso2.difference(country_iso2)"
   ]
  },
  {
   "cell_type": "code",
   "execution_count": null,
   "id": "1e155042",
   "metadata": {},
   "outputs": [],
   "source": [
    "iso2_diff"
   ]
  },
  {
   "cell_type": "markdown",
   "id": "f5ca153f",
   "metadata": {},
   "source": [
    "## Iterate through dataframe, convert data, get FK and update and create new entry in database."
   ]
  },
  {
   "cell_type": "code",
   "execution_count": null,
   "id": "f623069b",
   "metadata": {},
   "outputs": [],
   "source": [
    "for row in filter_errors.itertuples(index=False, name='Pandas'):\n",
    "    if row.iso_a2 in iso2_diff:\n",
    "        country = None\n",
    "    else:\n",
    "        country = Country.objects.filter(iso2=row.iso_a2)[0]\n",
    "    geometry = convert_geometry(row.geometry)\n",
    "    state_type = StateType.objects.filter(name=row.state_type)\n",
    "    state_type = state_type[0] if state_type else None\n",
    "\n",
    "    updated_values = {\n",
    "        \"name\": row.name,\n",
    "        \"iso_3166_1_2\": row.iso_3166_1_2,\n",
    "        \"fips\": row.fips,\n",
    "        \"state_type\": state_type,\n",
    "        \"wikidata_id\": row.wikidata_id,\n",
    "        \"geometry\": geometry,\n",
    "        \"country\": country,\n",
    "    }\n",
    "    \n",
    "    # Update base on adm1 code\n",
    "    State.objects.update_or_create(\n",
    "        adm1_code=row.adm1_code,\n",
    "        defaults=updated_values,\n",
    "    )"
   ]
  },
  {
   "cell_type": "code",
   "execution_count": null,
   "id": "d0045877",
   "metadata": {},
   "outputs": [],
   "source": []
  }
 ],
 "metadata": {
  "kernelspec": {
   "display_name": "Django Shell-Plus",
   "language": "python",
   "name": "django_extensions"
  },
  "language_info": {
   "codemirror_mode": {
    "name": "ipython",
    "version": 3
   },
   "file_extension": ".py",
   "mimetype": "text/x-python",
   "name": "python",
   "nbconvert_exporter": "python",
   "pygments_lexer": "ipython3",
   "version": "3.9.7"
  }
 },
 "nbformat": 4,
 "nbformat_minor": 5
}
