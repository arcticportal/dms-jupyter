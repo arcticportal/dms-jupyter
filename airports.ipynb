{
 "cells": [
  {
   "cell_type": "code",
   "execution_count": null,
   "id": "0c1b39d9",
   "metadata": {},
   "outputs": [],
   "source": [
    "import geopandas as gpd"
   ]
  },
  {
   "cell_type": "code",
   "execution_count": null,
   "id": "e1792250",
   "metadata": {},
   "outputs": [],
   "source": [
    "airports_shp = gpd.read_file(\"../temp/airports/ne_10m_airports.shp\", layer='ne_10m_airports')"
   ]
  },
  {
   "cell_type": "code",
   "execution_count": null,
   "id": "c516ffae",
   "metadata": {},
   "outputs": [],
   "source": [
    "filter_airports = airports_shp[[\"name\", \"type\", \"gps_code\", \"iata_code\", \"wikipedia\", \"wikidataid\", \"geometry\" ]]"
   ]
  },
  {
   "cell_type": "code",
   "execution_count": null,
   "id": "28fcb6dc",
   "metadata": {},
   "outputs": [],
   "source": [
    "filter_airports"
   ]
  },
  {
   "cell_type": "code",
   "execution_count": null,
   "id": "25aaac5d",
   "metadata": {},
   "outputs": [],
   "source": []
  }
 ],
 "metadata": {
  "kernelspec": {
   "display_name": "Django Shell-Plus",
   "language": "python",
   "name": "django_extensions"
  },
  "language_info": {
   "codemirror_mode": {
    "name": "ipython",
    "version": 3
   },
   "file_extension": ".py",
   "mimetype": "text/x-python",
   "name": "python",
   "nbconvert_exporter": "python",
   "pygments_lexer": "ipython3",
   "version": "3.9.7"
  }
 },
 "nbformat": 4,
 "nbformat_minor": 5
}
